{
 "cells": [
  {
   "cell_type": "code",
   "execution_count": 17,
   "metadata": {
    "collapsed": true
   },
   "outputs": [],
   "source": [
    "import pandas as pd\n",
    "import matplotlib as plt\n",
    "import numpy as np\n",
    "import math"
   ]
  },
  {
   "cell_type": "code",
   "execution_count": 18,
   "outputs": [],
   "source": [
    "vals = pd.read_csv(\"Weinguete.csv\")"
   ],
   "metadata": {
    "collapsed": false
   }
  },
  {
   "cell_type": "code",
   "execution_count": 19,
   "outputs": [
    {
     "data": {
      "text/plain": "     Grad Oechsle        A1        A2        A3        A4        A5        A6  \\\n0              51  0.000024  0.000020  0.000082  0.000020  0.000039  0.000023   \n1              52  0.000066  0.000080  0.000011  0.000057  0.000031  0.000050   \n2              53  0.000034  0.000050  0.000076  0.000019  0.000010  0.000013   \n3              54  0.000074  0.000043  0.000048  0.000027  0.000004  0.000071   \n4              55  0.000079  0.000034  0.000033  0.000015  0.000022  0.000071   \n..            ...       ...       ...       ...       ...       ...       ...   \n195           246  0.000039  0.000020  0.000074  0.000034  0.000069  0.000016   \n196           247  0.000034  0.000023  0.000042  0.000009  0.000054  0.000074   \n197           248  0.000055  0.000008  0.000028  0.000023  0.000033  0.000009   \n198           249  0.000013  0.000010  0.000075  0.000030  0.000059  0.000081   \n199           250  0.000048  0.000083  0.000003  0.000022  0.000009  0.000032   \n\n           A7        A8        A9  ...      A111      A112          A113  \\\n0    0.000072  0.000019  0.000053  ...  0.000051  0.000052  3.244043e-05   \n1    0.000074  0.000019  0.000010  ...  0.000011  0.000076  8.310917e-07   \n2    0.000041  0.000005  0.000021  ...  0.000029  0.000023  7.444703e-05   \n3    0.000060  0.000042  0.000069  ...  0.000047  0.000035  5.969053e-05   \n4    0.000041  0.000020  0.000067  ...  0.000051  0.000048  4.312278e-05   \n..        ...       ...       ...  ...       ...       ...           ...   \n195  0.000067  0.000006  0.000028  ...  0.000064  0.000017  2.249512e-06   \n196  0.000055  0.000049  0.000054  ...  0.000046  0.000074  5.312188e-05   \n197  0.000039  0.000015  0.000080  ...  0.000075  0.000054  5.702594e-05   \n198  0.000004  0.000062  0.000050  ...  0.000032  0.000017  5.770759e-05   \n199  0.000020  0.000025  0.000043  ...  0.000019  0.000035  3.504860e-05   \n\n         A114      A115      A116      A117      A118      A119      A120  \n0    0.000059  0.000007  0.000024  0.000066  0.000005  0.000023  0.000002  \n1    0.000039  0.000008  0.000034  0.000018  0.000035  0.000080  0.000028  \n2    0.000016  0.000066  0.000046  0.000052  0.000018  0.000011  0.000052  \n3    0.000030  0.000048  0.000037  0.000017  0.000015  0.000063  0.000034  \n4    0.000066  0.000038  0.000081  0.000036  0.000081  0.000078  0.000064  \n..        ...       ...       ...       ...       ...       ...       ...  \n195  0.000080  0.000038  0.000077  0.000042  0.000043  0.000076  0.000038  \n196  0.000003  0.000040  0.000011  0.000008  0.000080  0.000023  0.000032  \n197  0.000032  0.000039  0.000041  0.000015  0.000043  0.000051  0.000066  \n198  0.000031  0.000069  0.000027  0.000041  0.000069  0.000012  0.000026  \n199  0.000012  0.000009  0.000067  0.000074  0.000032  0.000038  0.000059  \n\n[200 rows x 121 columns]",
      "text/html": "<div>\n<style scoped>\n    .dataframe tbody tr th:only-of-type {\n        vertical-align: middle;\n    }\n\n    .dataframe tbody tr th {\n        vertical-align: top;\n    }\n\n    .dataframe thead th {\n        text-align: right;\n    }\n</style>\n<table border=\"1\" class=\"dataframe\">\n  <thead>\n    <tr style=\"text-align: right;\">\n      <th></th>\n      <th>Grad Oechsle</th>\n      <th>A1</th>\n      <th>A2</th>\n      <th>A3</th>\n      <th>A4</th>\n      <th>A5</th>\n      <th>A6</th>\n      <th>A7</th>\n      <th>A8</th>\n      <th>A9</th>\n      <th>...</th>\n      <th>A111</th>\n      <th>A112</th>\n      <th>A113</th>\n      <th>A114</th>\n      <th>A115</th>\n      <th>A116</th>\n      <th>A117</th>\n      <th>A118</th>\n      <th>A119</th>\n      <th>A120</th>\n    </tr>\n  </thead>\n  <tbody>\n    <tr>\n      <th>0</th>\n      <td>51</td>\n      <td>0.000024</td>\n      <td>0.000020</td>\n      <td>0.000082</td>\n      <td>0.000020</td>\n      <td>0.000039</td>\n      <td>0.000023</td>\n      <td>0.000072</td>\n      <td>0.000019</td>\n      <td>0.000053</td>\n      <td>...</td>\n      <td>0.000051</td>\n      <td>0.000052</td>\n      <td>3.244043e-05</td>\n      <td>0.000059</td>\n      <td>0.000007</td>\n      <td>0.000024</td>\n      <td>0.000066</td>\n      <td>0.000005</td>\n      <td>0.000023</td>\n      <td>0.000002</td>\n    </tr>\n    <tr>\n      <th>1</th>\n      <td>52</td>\n      <td>0.000066</td>\n      <td>0.000080</td>\n      <td>0.000011</td>\n      <td>0.000057</td>\n      <td>0.000031</td>\n      <td>0.000050</td>\n      <td>0.000074</td>\n      <td>0.000019</td>\n      <td>0.000010</td>\n      <td>...</td>\n      <td>0.000011</td>\n      <td>0.000076</td>\n      <td>8.310917e-07</td>\n      <td>0.000039</td>\n      <td>0.000008</td>\n      <td>0.000034</td>\n      <td>0.000018</td>\n      <td>0.000035</td>\n      <td>0.000080</td>\n      <td>0.000028</td>\n    </tr>\n    <tr>\n      <th>2</th>\n      <td>53</td>\n      <td>0.000034</td>\n      <td>0.000050</td>\n      <td>0.000076</td>\n      <td>0.000019</td>\n      <td>0.000010</td>\n      <td>0.000013</td>\n      <td>0.000041</td>\n      <td>0.000005</td>\n      <td>0.000021</td>\n      <td>...</td>\n      <td>0.000029</td>\n      <td>0.000023</td>\n      <td>7.444703e-05</td>\n      <td>0.000016</td>\n      <td>0.000066</td>\n      <td>0.000046</td>\n      <td>0.000052</td>\n      <td>0.000018</td>\n      <td>0.000011</td>\n      <td>0.000052</td>\n    </tr>\n    <tr>\n      <th>3</th>\n      <td>54</td>\n      <td>0.000074</td>\n      <td>0.000043</td>\n      <td>0.000048</td>\n      <td>0.000027</td>\n      <td>0.000004</td>\n      <td>0.000071</td>\n      <td>0.000060</td>\n      <td>0.000042</td>\n      <td>0.000069</td>\n      <td>...</td>\n      <td>0.000047</td>\n      <td>0.000035</td>\n      <td>5.969053e-05</td>\n      <td>0.000030</td>\n      <td>0.000048</td>\n      <td>0.000037</td>\n      <td>0.000017</td>\n      <td>0.000015</td>\n      <td>0.000063</td>\n      <td>0.000034</td>\n    </tr>\n    <tr>\n      <th>4</th>\n      <td>55</td>\n      <td>0.000079</td>\n      <td>0.000034</td>\n      <td>0.000033</td>\n      <td>0.000015</td>\n      <td>0.000022</td>\n      <td>0.000071</td>\n      <td>0.000041</td>\n      <td>0.000020</td>\n      <td>0.000067</td>\n      <td>...</td>\n      <td>0.000051</td>\n      <td>0.000048</td>\n      <td>4.312278e-05</td>\n      <td>0.000066</td>\n      <td>0.000038</td>\n      <td>0.000081</td>\n      <td>0.000036</td>\n      <td>0.000081</td>\n      <td>0.000078</td>\n      <td>0.000064</td>\n    </tr>\n    <tr>\n      <th>...</th>\n      <td>...</td>\n      <td>...</td>\n      <td>...</td>\n      <td>...</td>\n      <td>...</td>\n      <td>...</td>\n      <td>...</td>\n      <td>...</td>\n      <td>...</td>\n      <td>...</td>\n      <td>...</td>\n      <td>...</td>\n      <td>...</td>\n      <td>...</td>\n      <td>...</td>\n      <td>...</td>\n      <td>...</td>\n      <td>...</td>\n      <td>...</td>\n      <td>...</td>\n      <td>...</td>\n    </tr>\n    <tr>\n      <th>195</th>\n      <td>246</td>\n      <td>0.000039</td>\n      <td>0.000020</td>\n      <td>0.000074</td>\n      <td>0.000034</td>\n      <td>0.000069</td>\n      <td>0.000016</td>\n      <td>0.000067</td>\n      <td>0.000006</td>\n      <td>0.000028</td>\n      <td>...</td>\n      <td>0.000064</td>\n      <td>0.000017</td>\n      <td>2.249512e-06</td>\n      <td>0.000080</td>\n      <td>0.000038</td>\n      <td>0.000077</td>\n      <td>0.000042</td>\n      <td>0.000043</td>\n      <td>0.000076</td>\n      <td>0.000038</td>\n    </tr>\n    <tr>\n      <th>196</th>\n      <td>247</td>\n      <td>0.000034</td>\n      <td>0.000023</td>\n      <td>0.000042</td>\n      <td>0.000009</td>\n      <td>0.000054</td>\n      <td>0.000074</td>\n      <td>0.000055</td>\n      <td>0.000049</td>\n      <td>0.000054</td>\n      <td>...</td>\n      <td>0.000046</td>\n      <td>0.000074</td>\n      <td>5.312188e-05</td>\n      <td>0.000003</td>\n      <td>0.000040</td>\n      <td>0.000011</td>\n      <td>0.000008</td>\n      <td>0.000080</td>\n      <td>0.000023</td>\n      <td>0.000032</td>\n    </tr>\n    <tr>\n      <th>197</th>\n      <td>248</td>\n      <td>0.000055</td>\n      <td>0.000008</td>\n      <td>0.000028</td>\n      <td>0.000023</td>\n      <td>0.000033</td>\n      <td>0.000009</td>\n      <td>0.000039</td>\n      <td>0.000015</td>\n      <td>0.000080</td>\n      <td>...</td>\n      <td>0.000075</td>\n      <td>0.000054</td>\n      <td>5.702594e-05</td>\n      <td>0.000032</td>\n      <td>0.000039</td>\n      <td>0.000041</td>\n      <td>0.000015</td>\n      <td>0.000043</td>\n      <td>0.000051</td>\n      <td>0.000066</td>\n    </tr>\n    <tr>\n      <th>198</th>\n      <td>249</td>\n      <td>0.000013</td>\n      <td>0.000010</td>\n      <td>0.000075</td>\n      <td>0.000030</td>\n      <td>0.000059</td>\n      <td>0.000081</td>\n      <td>0.000004</td>\n      <td>0.000062</td>\n      <td>0.000050</td>\n      <td>...</td>\n      <td>0.000032</td>\n      <td>0.000017</td>\n      <td>5.770759e-05</td>\n      <td>0.000031</td>\n      <td>0.000069</td>\n      <td>0.000027</td>\n      <td>0.000041</td>\n      <td>0.000069</td>\n      <td>0.000012</td>\n      <td>0.000026</td>\n    </tr>\n    <tr>\n      <th>199</th>\n      <td>250</td>\n      <td>0.000048</td>\n      <td>0.000083</td>\n      <td>0.000003</td>\n      <td>0.000022</td>\n      <td>0.000009</td>\n      <td>0.000032</td>\n      <td>0.000020</td>\n      <td>0.000025</td>\n      <td>0.000043</td>\n      <td>...</td>\n      <td>0.000019</td>\n      <td>0.000035</td>\n      <td>3.504860e-05</td>\n      <td>0.000012</td>\n      <td>0.000009</td>\n      <td>0.000067</td>\n      <td>0.000074</td>\n      <td>0.000032</td>\n      <td>0.000038</td>\n      <td>0.000059</td>\n    </tr>\n  </tbody>\n</table>\n<p>200 rows × 121 columns</p>\n</div>"
     },
     "execution_count": 19,
     "metadata": {},
     "output_type": "execute_result"
    }
   ],
   "source": [
    "vals"
   ],
   "metadata": {
    "collapsed": false
   }
  },
  {
   "cell_type": "markdown",
   "source": [
    "### Calculate the expected value for Y (Grad Oechsle)"
   ],
   "metadata": {
    "collapsed": false
   }
  },
  {
   "cell_type": "code",
   "execution_count": 20,
   "outputs": [
    {
     "data": {
      "text/plain": "150.31662592374533"
     },
     "execution_count": 20,
     "metadata": {},
     "output_type": "execute_result"
    }
   ],
   "source": [
    "e_Y = vals.iloc[:,1:].sum(axis = 1)\n",
    "e_Y = e_Y * vals['Grad Oechsle']\n",
    "e_Y = e_Y.sum()\n",
    "e_Y"
   ],
   "metadata": {
    "collapsed": false
   }
  },
  {
   "cell_type": "markdown",
   "source": [
    "### Calculate the expected value for X (Kategorie Acker)"
   ],
   "metadata": {
    "collapsed": false
   }
  },
  {
   "cell_type": "code",
   "execution_count": 21,
   "outputs": [
    {
     "data": {
      "text/plain": "60.583120573738384"
     },
     "execution_count": 21,
     "metadata": {},
     "output_type": "execute_result"
    }
   ],
   "source": [
    "e_X = pd.DataFrame(vals.set_index(['Grad Oechsle']).T.sum(axis=1))\n",
    "e_X.rename(columns={0: 'prob'})\n",
    "# replace bad index A1 (categorical) with g0od (numerical)\n",
    "good_idx = pd.Series(np.linspace(1,120,120))\n",
    "bad_idx = pd.DataFrame(e_X.index)\n",
    "bad_idx['value'] = good_idx\n",
    "bad_idx = bad_idx.set_index(0)\n",
    "e_X[0] = e_X[0] * bad_idx['value']\n",
    "e_X = e_X.sum()[0]\n",
    "e_X"
   ],
   "metadata": {
    "collapsed": false
   }
  },
  {
   "cell_type": "markdown",
   "source": [
    "### Calculate E(X*Y)"
   ],
   "metadata": {
    "collapsed": false
   }
  },
  {
   "cell_type": "code",
   "execution_count": 22,
   "outputs": [
    {
     "data": {
      "text/plain": "9106.700985144304"
     },
     "execution_count": 22,
     "metadata": {},
     "output_type": "execute_result"
    }
   ],
   "source": [
    "#es wird hässlich!\n",
    "\n",
    "#folgender bereich errechnet auf vals_copy z.B. für i=1 und j=1 P(A_1 \\cap 51) * 1 * 51\n",
    "#hier wird nicht auf pandas zurückgegriffen, was zwar merklich performance kostet aber wegen der categorischen indizes deutlich angenehmer ist\n",
    "vals_copy = vals.copy()\n",
    "for i in range (0, 200):\n",
    "    for j in range(1,121):\n",
    "        vals_copy.iloc[i,j] = vals.iloc[i,j] * (i+51) * (j)\n",
    "\n",
    "\n",
    "#nun soll alles summiert werden um E(X*Y) zu erhalten\n",
    "column_sum = vals_copy.iloc[:,1:].sum(axis=1)\n",
    "e_xy = column_sum.sum()\n",
    "e_xy"
   ],
   "metadata": {
    "collapsed": false
   }
  },
  {
   "cell_type": "code",
   "execution_count": 23,
   "outputs": [
    {
     "data": {
      "text/plain": "0.050712568510789424"
     },
     "execution_count": 23,
     "metadata": {},
     "output_type": "execute_result"
    }
   ],
   "source": [
    "cov_xy = e_xy - (e_X*e_Y)\n",
    "cov_xy"
   ],
   "metadata": {
    "collapsed": false
   }
  },
  {
   "cell_type": "markdown",
   "source": [
    "### Now the correlation"
   ],
   "metadata": {
    "collapsed": false
   }
  },
  {
   "cell_type": "code",
   "execution_count": 24,
   "outputs": [
    {
     "data": {
      "text/plain": "25924.519602599175"
     },
     "execution_count": 24,
     "metadata": {},
     "output_type": "execute_result"
    }
   ],
   "source": [
    "#calc E(Y^2)\n",
    "e_Ysq = vals.iloc[:,1:].sum(axis = 1)\n",
    "e_Ysq = e_Ysq * vals['Grad Oechsle'] * vals['Grad Oechsle']\n",
    "e_Ysq = e_Ysq.sum()\n",
    "e_Ysq"
   ],
   "metadata": {
    "collapsed": false
   }
  },
  {
   "cell_type": "code",
   "execution_count": 25,
   "outputs": [
    {
     "data": {
      "text/plain": "4874.7315486965235"
     },
     "execution_count": 25,
     "metadata": {},
     "output_type": "execute_result"
    }
   ],
   "source": [
    "#calc E(X^2)\n",
    "e_Xsq = pd.DataFrame(vals.set_index(['Grad Oechsle']).T.sum(axis=1))\n",
    "e_Xsq.rename(columns={0: 'prob'})\n",
    "# replace bad index A1 (categorical) with g0od (numerical)\n",
    "good_idx = pd.Series(np.linspace(1,120,120))\n",
    "bad_idx = pd.DataFrame(e_Xsq.index)\n",
    "bad_idx['value'] = good_idx\n",
    "bad_idx = bad_idx.set_index(0)\n",
    "e_Xsq[0] = e_Xsq[0] * bad_idx['value'] * bad_idx['value']\n",
    "e_Xsq = e_Xsq.sum()[0]\n",
    "e_Xsq"
   ],
   "metadata": {
    "collapsed": false
   }
  },
  {
   "cell_type": "code",
   "execution_count": 26,
   "outputs": [
    {
     "data": {
      "text/plain": "2.5324571932550517e-05"
     },
     "execution_count": 26,
     "metadata": {},
     "output_type": "execute_result"
    }
   ],
   "source": [
    "# now calc correlation (x,y)\n",
    "corr_xy = cov_xy / (math.sqrt(e_Xsq - e_X*e_X) * math.sqrt(e_Ysq - e_Y*e_Y))\n",
    "corr_xy"
   ],
   "metadata": {
    "collapsed": false
   }
  },
  {
   "cell_type": "code",
   "execution_count": null,
   "outputs": [],
   "source": [],
   "metadata": {
    "collapsed": false
   }
  }
 ],
 "metadata": {
  "kernelspec": {
   "display_name": "Python 3",
   "language": "python",
   "name": "python3"
  },
  "language_info": {
   "codemirror_mode": {
    "name": "ipython",
    "version": 2
   },
   "file_extension": ".py",
   "mimetype": "text/x-python",
   "name": "python",
   "nbconvert_exporter": "python",
   "pygments_lexer": "ipython2",
   "version": "2.7.6"
  }
 },
 "nbformat": 4,
 "nbformat_minor": 0
}
